{
 "cells": [
  {
   "cell_type": "code",
   "execution_count": null,
   "metadata": {},
   "outputs": [],
   "source": [
    "#Random Forest W/ Hyperparameter Tuning Checked\n",
    "import numpy as np\n",
    "import pandas as pd\n",
    "import datetime\n",
    "from sklearn.preprocessing import LabelBinarizer\n",
    "from sklearn.ensemble import RandomForestClassifier\n",
    "from sklearn.model_selection import train_test_split, GridSearchCV, StratifiedKFold\n",
    "from sklearn.metrics import roc_curve, precision_recall_curve, auc, make_scorer, recall_score, accuracy_score, precision_score, confusion_matrix,roc_auc_score,f1_score,balanced_accuracy_score\n",
    "import warnings\n",
    "import matplotlib.pyplot as plt\n",
    "\n",
    "warnings.filterwarnings(\"ignore\")"
   ]
  },
  {
   "cell_type": "code",
   "execution_count": null,
   "metadata": {},
   "outputs": [],
   "source": [
    "def tn(y_true, y_pred): return confusion_matrix(y_true, y_pred)[0, 0]\n",
    "def fp(y_true, y_pred): return confusion_matrix(y_true, y_pred)[0, 1]\n",
    "def fn(y_true, y_pred): return confusion_matrix(y_true, y_pred)[1, 0]\n",
    "def tp(y_true, y_pred): return confusion_matrix(y_true, y_pred)[1, 1]"
   ]
  },
  {
   "cell_type": "code",
   "execution_count": null,
   "metadata": {},
   "outputs": [],
   "source": [
    "def grid_search_wrapper(refit_score):\n",
    "    \"\"\"\n",
    "    fits a GridSearchCV classifier using refit_score for optimization\n",
    "    \"\"\"\n",
    "    \n",
    "    print('\\nRefit by ',refit_score)\n",
    "    \n",
    "    #start model\n",
    "    start_time  = datetime.datetime.now()\n",
    "    print('\\nStart time',start_time)\n",
    "    \n",
    "    skf = StratifiedKFold(n_splits=10)\n",
    "    grid_search = GridSearchCV(clf, param_grid, scoring=scorers, refit=refit_score,cv=skf, return_train_score=True, n_jobs=-1)\n",
    "    grid_search.fit(X_train, y_train)\n",
    "    \n",
    "    #end model fit\n",
    "    end_time = datetime.datetime.now()\n",
    "    print('\\nEnd time',end_time)\n",
    "\n",
    "    return grid_search"
   ]
  },
  {
   "cell_type": "code",
   "execution_count": null,
   "metadata": {},
   "outputs": [],
   "source": [
    "#imbalanced dataset\n",
    "#print('imbalanced dataset')\n",
    "#DATA_PATH='data_vec_non_alpha_numericBy_FeatSelect.csv'"
   ]
  },
  {
   "cell_type": "code",
   "execution_count": null,
   "metadata": {},
   "outputs": [],
   "source": [
    "#balanced dataset\n",
    "print('balanced dataset')\n",
    "DATA_PATH='data_vec_non_alpha_numericBy_FeatSelect5000.csv'"
   ]
  },
  {
   "cell_type": "code",
   "execution_count": null,
   "metadata": {},
   "outputs": [],
   "source": [
    "dataset=pd.read_csv(DATA_PATH)\n",
    "y=dataset['Result']"
   ]
  },
  {
   "cell_type": "code",
   "execution_count": null,
   "metadata": {},
   "outputs": [],
   "source": [
    "#W/O Entropy\n",
    "#print('W/O Entropy')\n",
    "#X=dataset[['IP_Address','EXE','Sensitive_Word','double_slash_redirecting','W3_HTTP_token','who_is','dash_sign','at_sign','dot_sign','free_host','port']]\n",
    "#W/ Entropy\n",
    "print('W/ Entropy')\n",
    "X=dataset.drop('Result',axis=1)"
   ]
  },
  {
   "cell_type": "code",
   "execution_count": null,
   "metadata": {},
   "outputs": [],
   "source": [
    "X_train, X_test, y_train, y_test = train_test_split(X, y)"
   ]
  },
  {
   "cell_type": "code",
   "execution_count": null,
   "metadata": {},
   "outputs": [],
   "source": [
    "# show the distribution\n",
    "print('y_train class distribution\\n')\n",
    "print(y_train.value_counts(normalize=True))\n",
    "print('\\ny_test class distribution')\n",
    "print('\\n',y_test.value_counts(normalize=True))"
   ]
  },
  {
   "cell_type": "code",
   "execution_count": null,
   "metadata": {},
   "outputs": [],
   "source": [
    "clf = RandomForestClassifier()"
   ]
  },
  {
   "cell_type": "code",
   "execution_count": null,
   "metadata": {},
   "outputs": [],
   "source": [
    "param_grid = {\n",
    "    'n_estimators' : [100,110,120,130,140,150,160,170,180,190,200,300,400,500,600,700],\n",
    "    #'n_estimators' : [10,20,30,40,50,60,70,80,90,100,110,120,130,140,150,160,170,180,190,200,300,400,500,600,700],\n",
    "    'criterion': ['gini', 'entropy'],\n",
    "    'bootstrap': [True, False]\n",
    "}"
   ]
  },
  {
   "cell_type": "code",
   "execution_count": null,
   "metadata": {},
   "outputs": [],
   "source": [
    "scorers = {\n",
    "    'precision_micro_score': make_scorer(precision_score, average='micro'),\n",
    "    'precision_score': make_scorer(precision_score, average='weighted'),\n",
    "    'recall_micro_score': make_scorer(recall_score, average='micro'),\n",
    "    'recall_score': make_scorer(recall_score, average='weighted'),\n",
    "    'accuracy_score': make_scorer(accuracy_score),\n",
    "    'roc_score_scorer' : make_scorer(roc_auc_score,average='weighted'),\n",
    "    'metrics_roc_auc_score' : 'roc_auc',\n",
    "    'f1_score' : make_scorer(f1_score, average='weighted'),\n",
    "    'tp': make_scorer(tp),\n",
    "    'tn': make_scorer(tn),\n",
    "    'fp': make_scorer(fp),\n",
    "    'fn': make_scorer(fn)\n",
    "}"
   ]
  },
  {
   "cell_type": "code",
   "execution_count": null,
   "metadata": {},
   "outputs": [],
   "source": [
    "refit_scorer='metrics_roc_auc_score'\n",
    "print('Refit by ',refit_scorer)\n",
    "grid_search_clf = grid_search_wrapper(refit_score=refit_scorer)"
   ]
  },
  {
   "cell_type": "code",
   "execution_count": null,
   "metadata": {},
   "outputs": [],
   "source": [
    "# make the predictions\n",
    "y_pred = grid_search_clf.predict(X_test)"
   ]
  },
  {
   "cell_type": "code",
   "execution_count": null,
   "metadata": {},
   "outputs": [],
   "source": [
    "print('\\nBest params for \\n',grid_search_clf.best_params_)\n",
    "best_result = grid_search_clf.best_score_\n",
    "print('\\nBest Result :',best_result)"
   ]
  },
  {
   "cell_type": "code",
   "execution_count": null,
   "metadata": {},
   "outputs": [],
   "source": [
    "# confusion matrix on the test data.\n",
    "print('\\nConfusion matrix of Random Forest optimized for the test data:')\n",
    "print('\\n',str(pd.DataFrame(confusion_matrix(y_test, y_pred), columns=['pred_neg', 'pred_pos'], index=['neg', 'pos'])))\n",
    "results = pd.DataFrame(grid_search_clf.cv_results_)\n",
    "results = results.sort_values(by='mean_test_metrics_roc_auc_score', ascending=False)"
   ]
  }
 ],
 "metadata": {
  "kernelspec": {
   "display_name": "Python 3",
   "language": "python",
   "name": "python3"
  },
  "language_info": {
   "codemirror_mode": {
    "name": "ipython",
    "version": 3
   },
   "file_extension": ".py",
   "mimetype": "text/x-python",
   "name": "python",
   "nbconvert_exporter": "python",
   "pygments_lexer": "ipython3",
   "version": "3.8.5"
  }
 },
 "nbformat": 4,
 "nbformat_minor": 4
}
