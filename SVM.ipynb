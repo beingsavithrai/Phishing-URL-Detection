{
 "cells": [
  {
   "cell_type": "code",
   "execution_count": null,
   "metadata": {},
   "outputs": [],
   "source": [
    "#Support Vector Machine W/O Hyperparameter Tuning\n",
    "import numpy as np\n",
    "from sklearn.svm import SVC\n",
    "from sklearn.metrics import precision_recall_fscore_support\n",
    "import pandas as pd\n",
    "from sklearn.model_selection import train_test_split\n",
    "from sklearn.metrics import roc_curve, precision_recall_curve, auc, make_scorer, recall_score, accuracy_score, precision_score, confusion_matrix,roc_auc_score\n",
    "from sklearn.metrics import classification_report"
   ]
  },
  {
   "cell_type": "code",
   "execution_count": null,
   "metadata": {},
   "outputs": [],
   "source": [
    "#imbalanced dataset\n",
    "print('imbalanced dataset')\n",
    "DATA_PATH=\"data_vec_non_alpha_numericBy_FeatSelect.csv\""
   ]
  },
  {
   "cell_type": "code",
   "execution_count": null,
   "metadata": {},
   "outputs": [],
   "source": [
    "#balanced dataset\n",
    "#print('balanced dataset')\n",
    "#DATA_PATH='data_vec_non_alpha_numericBy_FeatSelect5000.csv'"
   ]
  },
  {
   "cell_type": "code",
   "execution_count": null,
   "metadata": {},
   "outputs": [],
   "source": [
    "dataset=pd.read_csv(DATA_PATH)\n",
    "y=dataset['Result']"
   ]
  },
  {
   "cell_type": "code",
   "execution_count": null,
   "metadata": {},
   "outputs": [],
   "source": [
    "#W/O Entropy\n",
    "#print('W/O Entropy')\n",
    "#X=dataset[['IP_Address','EXE','Sensitive_Word','double_slash_redirecting','W3_HTTP_token','who_is','dash_sign','at_sign','dot_sign','free_host','port']]\n",
    "#W/ Entropy\n",
    "print('W/ Entropy')\n",
    "X=dataset.drop('Result',axis=1)"
   ]
  },
  {
   "cell_type": "code",
   "execution_count": null,
   "metadata": {},
   "outputs": [],
   "source": [
    "X_train, X_test, y_train, y_test = train_test_split(X, y,test_size=0.3, random_state=None)"
   ]
  },
  {
   "cell_type": "code",
   "execution_count": null,
   "metadata": {},
   "outputs": [],
   "source": [
    "clf = SVC(gamma='auto')\n",
    "clf.fit(X_train, y_train)"
   ]
  },
  {
   "cell_type": "code",
   "execution_count": null,
   "metadata": {},
   "outputs": [],
   "source": [
    "prediction=clf.predict(X_test)\n",
    "rocscore=roc_auc_score(y_test,prediction)"
   ]
  },
  {
   "cell_type": "code",
   "execution_count": null,
   "metadata": {},
   "outputs": [],
   "source": [
    "print('Precision   Recall    F_score   Support\\n',precision_recall_fscore_support(y_test,prediction))\n",
    "print('-------------------------------------------------------------')"
   ]
  },
  {
   "cell_type": "code",
   "execution_count": null,
   "metadata": {},
   "outputs": [],
   "source": [
    "print('Roc Score',rocscore)\n",
    "print('Accuracy Score',accuracy_score(y_test,prediction))\n",
    "print('Confusion metric\\n',str(pd.DataFrame(confusion_matrix(y_test, prediction),\n",
    "                 columns=['pred_neg', 'pred_pos'], index=['neg', 'pos'])))\n",
    "print('-------------------------------------------------------------')"
   ]
  },
  {
   "cell_type": "code",
   "execution_count": null,
   "metadata": {},
   "outputs": [],
   "source": [
    "print(\"=== Classification Report ===\")\n",
    "print(classification_report(y_test.round, prediction,digits=6))\n",
    "print('-------------------------------------------------------------')"
   ]
  }
 ],
 "metadata": {
  "kernelspec": {
   "display_name": "Python 3",
   "language": "python",
   "name": "python3"
  },
  "language_info": {
   "codemirror_mode": {
    "name": "ipython",
    "version": 3
   },
   "file_extension": ".py",
   "mimetype": "text/x-python",
   "name": "python",
   "nbconvert_exporter": "python",
   "pygments_lexer": "ipython3",
   "version": "3.8.5"
  }
 },
 "nbformat": 4,
 "nbformat_minor": 4
}
